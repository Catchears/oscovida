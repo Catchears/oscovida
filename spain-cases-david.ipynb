{
 "cells": [
  {
   "cell_type": "markdown",
   "metadata": {},
   "source": [
    "# Spain Covid Cases"
   ]
  },
  {
   "cell_type": "code",
   "execution_count": 1,
   "metadata": {},
   "outputs": [],
   "source": [
    "import datetime\n",
    "import os\n",
    "import time\n",
    "import joblib\n",
    "import numpy as np\n",
    "import pandas as pd\n",
    "\n",
    "# choose font - can be deactivated\n",
    "from matplotlib import rcParams\n",
    "rcParams['font.family'] = 'sans-serif'\n",
    "rcParams['font.sans-serif'] = ['Inconsolata']\n",
    "# need many figures for index.ipynb and germany.ipynb\n",
    "rcParams['figure.max_open_warning'] = 50\n",
    "\n",
    "import matplotlib.pyplot as plt\n",
    "plt.style.use('ggplot')\n",
    "\n",
    "# suppress warning\n",
    "from pandas.plotting import register_matplotlib_converters\n",
    "register_matplotlib_converters()\n",
    "\n",
    "LW = 3   # line width\n",
    "\n",
    "# set up joblib memory to avoid re-fetching files\n",
    "joblib_location = \"./cachedir\"\n",
    "joblib_memory = joblib.Memory(joblib_location, verbose=0)\n",
    "\n",
    "%config InlineBackend.figure_formats = ['svg']\n",
    "%matplotlib inline\n",
    "# Alternative plotting backend for interative data exploration\n",
    "# %matplotlib notebook\n",
    "\n",
    "from coronavirus import overview, fetch_data_germany, germany_get_region\n",
    "\n",
    "# If you want to edit the source in the notebook, try \"%load coronavirus.py\" \n",
    "# and comment out the import statement above."
   ]
  },
  {
   "cell_type": "code",
   "execution_count": 2,
   "metadata": {},
   "outputs": [],
   "source": [
    "def clear_cache():\n",
    "    \"\"\"Need to run this before new data for the day is created\"\"\"\n",
    "    joblib_memory.clear()"
   ]
  },
  {
   "cell_type": "code",
   "execution_count": 3,
   "metadata": {},
   "outputs": [],
   "source": [
    "spanish_regions = [\"Andalucía\", \"Aragón\", \"Asturias\", \"Cantabria\", \"Ceuta\", \"Castilla y León\",\n",
    "                   \"Castilla-La Mancha\", \"Canarias\", \"Cataluña\", \"Extremadura\", \"Galicia\",\n",
    "                   \"Islas Baleares\", \"Murcia\", \"Com. Madrid\", \"Melilla\", \"Navarra\", \"País Vasco\",\n",
    "                   \"La Rioja\", \"Com. Valenciana\"]"
   ]
  },
  {
   "cell_type": "code",
   "execution_count": 4,
   "metadata": {},
   "outputs": [],
   "source": [
    "def rename_columns(spanish_data):\n",
    "    \"\"\"Rename columns for non-spanish speakers.    \n",
    "    \"\"\"\n",
    "    return spanish_data.rename(columns={'CCAA': 'Admin. region code',\n",
    "                                        'FECHA': 'Date',\n",
    "                                        'CASOS': 'Cases',\n",
    "                                        'Hospitalizados': 'Hospitalized',\n",
    "                                        'UCI': 'ICU',\n",
    "                                        'Fallecidos': 'Deceases',\n",
    "                                        'Recuperados': 'Recovered'}, inplace=True)"
   ]
  },
  {
   "cell_type": "code",
   "execution_count": 5,
   "metadata": {},
   "outputs": [],
   "source": [
    "#@joblib_memory.cache\n",
    "def fetch_data_germany_last_execution():\n",
    "    return datetime.datetime.now().strftime(\"%d/%m/%Y %H:%M:%S\")\n",
    "\n",
    "#@joblib_memory.cache\n",
    "def fetch_data_spain():\n",
    "    \"\"\"Data source is https://covid19.isciii.es. The text on the webpage implies that \n",
    "    the data comes from the Minitry of Health. \"\"\"\n",
    "\n",
    "    datasource = \"https://covid19.isciii.es/resources/serie_historica_acumulados.csv\"\n",
    "    t0 = time.time()\n",
    "    print(f\"Please be patient - downloading data from {datasource} ...\")\n",
    "    spain = pd.read_csv(datasource, encoding=\"ISO-8859-1\", engine=\"python\", skipfooter=4)\n",
    "    rename_columns(spain)\n",
    "    delta_t = time.time() - t0\n",
    "    print(f\"Completed downloading {len(spain)} rows in {delta_t:.1f} seconds.\")\n",
    "\n",
    "    g2 = spain.set_index(pd.to_datetime(spain['Date']))\n",
    "    g2.drop(columns=['Date'],inplace=True)\n",
    "    g2.index.name = 'date'\n",
    "    last_day = g2.index[-1]\n",
    "    sel = g2.index == last_day\n",
    "    cleaned = g2.drop(g2[sel].index, inplace=False)\n",
    "    fetch_data_germany_last_execution()\n",
    "    return cleaned"
   ]
  },
  {
   "cell_type": "code",
   "execution_count": 7,
   "metadata": {},
   "outputs": [],
   "source": [
    "def map_regions(spanish_data):\n",
    "    acronyms = sorted(set(spanish_data['Admin. region code']))\n",
    "    regions = dict(zip(acronyms, spanish_regions))\n",
    "    spanish_data['Admin. region'] = spanish_data['Admin. region code'].map(regions)\n",
    "    #print(spanish_data.head())\n",
    "    spanish_data.drop(columns=['Admin. region code'], inplace=True)\n",
    "    return spanish_data"
   ]
  },
  {
   "cell_type": "code",
   "execution_count": 8,
   "metadata": {},
   "outputs": [],
   "source": [
    "def spain_get_region(adm_region=None):\n",
    "    spain = fetch_data_spain()\n",
    "    spain = map_regions(spain)\n",
    "    \"\"\"Returns two time series: (cases, deaths)\"\"\"\n",
    "    assert adm_region, \"Need to provide a value for the administrative region\"\n",
    "    \n",
    "    if adm_region:\n",
    "        assert adm_region in spain['Admin. region'].values, \\\n",
    "            f\"{adm_region} not in available Spanish Administrative Regions. These are {sorted(spain['Admin. region'].drop_duplicates())}\"\n",
    "\n",
    "        region = spain[spain['Admin. region'] == adm_region]\n",
    "\n",
    "        # group over multiple rows for the same region\n",
    "        cases = region[\"Cases\"]\n",
    "        cases.country = f'Spain-{adm_region}'\n",
    "        cases.label = 'cases'\n",
    "\n",
    "        deaths = region[\"Deceases\"]\n",
    "        deaths.country = f'Spain-{adm_region}'\n",
    "        deaths.label = 'deaths'\n",
    "\n",
    "        return cases, deaths"
   ]
  },
  {
   "cell_type": "code",
   "execution_count": 9,
   "metadata": {},
   "outputs": [
    {
     "name": "stdout",
     "output_type": "stream",
     "text": [
      "Please be patient - downloading data from https://covid19.isciii.es/resources/serie_historica_acumulados.csv ...\n",
      "Completed downloading 1064 rows in 0.3 seconds.\n"
     ]
    }
   ],
   "source": [
    "cases, deaths = spain_get_region(adm_region=\"Andalucía\")"
   ]
  },
  {
   "cell_type": "code",
   "execution_count": 10,
   "metadata": {},
   "outputs": [
    {
     "data": {
      "text/plain": [
       "date\n",
       "2020-02-20        NaN\n",
       "2020-02-21        NaN\n",
       "2020-02-22        NaN\n",
       "2020-02-23        NaN\n",
       "2020-02-24        NaN\n",
       "2020-02-25        NaN\n",
       "2020-02-26        1.0\n",
       "2020-02-27        6.0\n",
       "2020-02-28        8.0\n",
       "2020-02-29       12.0\n",
       "2020-01-03       12.0\n",
       "2020-02-03       12.0\n",
       "2020-03-03       12.0\n",
       "2020-04-03       12.0\n",
       "2020-05-03       21.0\n",
       "2020-06-03       27.0\n",
       "2020-07-03       34.0\n",
       "2020-08-03       54.0\n",
       "2020-09-03       71.0\n",
       "2020-10-03       90.0\n",
       "2020-11-03      115.0\n",
       "2020-12-03      219.0\n",
       "2020-03-13      269.0\n",
       "2020-03-14      437.0\n",
       "2020-03-15      554.0\n",
       "2020-03-16      683.0\n",
       "2020-03-17      859.0\n",
       "2020-03-18     1008.0\n",
       "2020-03-19     1287.0\n",
       "2020-03-20     1515.0\n",
       "2020-03-21     1725.0\n",
       "2020-03-22     1961.0\n",
       "2020-03-23     2471.0\n",
       "2020-03-24     3010.0\n",
       "2020-03-25     3406.0\n",
       "2020-03-26     3793.0\n",
       "2020-03-27     4277.0\n",
       "2020-03-28     4682.0\n",
       "2020-03-29     5405.0\n",
       "2020-03-30     5818.0\n",
       "2020-03-31     6392.0\n",
       "2020-01-04     6972.0\n",
       "2020-02-04     7374.0\n",
       "2020-03-04     7869.0\n",
       "2020-04-04     8301.0\n",
       "2020-05-04     8581.0\n",
       "2020-06-04     8767.0\n",
       "2020-07-04     8997.0\n",
       "2020-08-04     9261.0\n",
       "2020-09-04     9510.0\n",
       "2020-10-04     9712.0\n",
       "2020-11-04    10006.0\n",
       "2020-12-04    10187.0\n",
       "2020-04-13    10306.0\n",
       "2020-04-14    10595.0\n",
       "Name: Cases, dtype: float64"
      ]
     },
     "execution_count": 10,
     "metadata": {},
     "output_type": "execute_result"
    }
   ],
   "source": [
    "cases"
   ]
  },
  {
   "cell_type": "code",
   "execution_count": null,
   "metadata": {},
   "outputs": [],
   "source": [
    "#overview(\"Spain\");"
   ]
  }
 ],
 "metadata": {
  "kernelspec": {
   "display_name": "Python 3",
   "language": "python",
   "name": "python3"
  },
  "language_info": {
   "codemirror_mode": {
    "name": "ipython",
    "version": 3
   },
   "file_extension": ".py",
   "mimetype": "text/x-python",
   "name": "python",
   "nbconvert_exporter": "python",
   "pygments_lexer": "ipython3",
   "version": "3.8.2"
  }
 },
 "nbformat": 4,
 "nbformat_minor": 4
}
