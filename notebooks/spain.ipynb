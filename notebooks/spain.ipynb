{
 "cells": [
  {
   "cell_type": "markdown",
   "metadata": {},
   "source": [
    "# # Coronavirus 2020 - effectiveness of measures taken - Spain"
   ]
  },
  {
   "cell_type": "code",
   "execution_count": 6,
   "metadata": {},
   "outputs": [],
   "source": [
    "%config InlineBackend.figure_formats = ['svg']\n",
    "%matplotlib inline\n",
    "# Alternative plotting backend for interative data exploration\n",
    "# %matplotlib notebook\n",
    "\n",
    "from coronavirus import overview, spain_get_region\n",
    "\n",
    "# If you want to edit the source in the notebook, try \"%load coronavirus.py\" \n",
    "# and comment out the import statement above."
   ]
  },
  {
   "cell_type": "code",
   "execution_count": 3,
   "metadata": {},
   "outputs": [],
   "source": [
    "spanish_regions = [\"Andalucía\", \"Aragón\", \"Asturias\", \"Cantabria\", \"Ceuta\", \"Castilla y León\",\n",
    "                   \"Castilla-La Mancha\", \"Canarias\", \"Cataluña\", \"Extremadura\", \"Galicia\",\n",
    "                   \"Islas Baleares\", \"Murcia\", \"Com. Madrid\", \"Melilla\", \"Navarra\", \"País Vasco\",\n",
    "                   \"La Rioja\", \"Com. Valenciana\"]"
   ]
  },
  {
   "cell_type": "code",
   "execution_count": 6,
   "metadata": {},
   "outputs": [],
   "source": [
    "def spain_get_region(region=None):\n",
    "    spain = fetch_data_spain()\n",
    "    spain = map_regions(spain)\n",
    "    \"\"\"Returns two time series: (cases, deaths)\"\"\"\n",
    "    assert region, \"Need to provide a value for the administrative region\"\n",
    "    \n",
    "    if region:\n",
    "        assert region in spain['Region'].values, \\\n",
    "            f\"{region} not in available Spanish Administrative Regions. These are {sorted(spain['Region'].drop_duplicates())}\"\n",
    "\n",
    "        region = spain[spain['Region'] == region]\n",
    "\n",
    "        # group over multiple rows for the same region\n",
    "        cases = region[\"Cases\"]\n",
    "        cases.country = f'Spain-{region}'\n",
    "        cases.label = 'cases'\n",
    "\n",
    "        deaths = region[\"Deceases\"]\n",
    "        deaths.country = f'Spain-{region}'\n",
    "        deaths.label = 'deaths'\n",
    "\n",
    "        return cases, deaths"
   ]
  },
  {
   "cell_type": "markdown",
   "metadata": {},
   "source": [
    "# Andalucía"
   ]
  },
  {
   "cell_type": "code",
   "execution_count": 2,
   "metadata": {},
   "outputs": [
    {
     "name": "stdout",
     "output_type": "stream",
     "text": [
      "Please be patient - downloading data from https://covid19.isciii.es/resources/serie_historica_acumulados.csv ...\n",
      "Completed downloading 1142 rows in 0.7 seconds.\n"
     ]
    }
   ],
   "source": [
    "cases, deaths = spain_get_region(region=\"Andalucía\")"
   ]
  },
  {
   "cell_type": "markdown",
   "metadata": {},
   "source": [
    "# Comunidad de Madrid"
   ]
  },
  {
   "cell_type": "code",
   "execution_count": null,
   "metadata": {},
   "outputs": [],
   "source": [
    "cases, deaths = spain_get_region(region=\"Com. Madrid\")"
   ]
  },
  {
   "cell_type": "markdown",
   "metadata": {},
   "source": [
    "# Cataluña"
   ]
  },
  {
   "cell_type": "code",
   "execution_count": null,
   "metadata": {},
   "outputs": [],
   "source": [
    "cases, deaths = spain_get_region(region=\"Cataluña\")"
   ]
  },
  {
   "cell_type": "markdown",
   "metadata": {},
   "source": [
    "# País Vasco"
   ]
  },
  {
   "cell_type": "code",
   "execution_count": null,
   "metadata": {},
   "outputs": [],
   "source": [
    "cases, deaths = spain_get_region(region=\"País Vasco\")"
   ]
  },
  {
   "cell_type": "markdown",
   "metadata": {},
   "source": [
    "# Canarias"
   ]
  },
  {
   "cell_type": "code",
   "execution_count": null,
   "metadata": {},
   "outputs": [],
   "source": [
    "cases, deaths = spain_get_region(region=\"Canarias\")"
   ]
  },
  {
   "cell_type": "code",
   "execution_count": 7,
   "metadata": {},
   "outputs": [
    {
     "name": "stdout",
     "output_type": "stream",
     "text": [
      "Please be patient - downloading data from https://covid19.isciii.es/resources/serie_historica_acumulados.csv ...\n",
      "Completed downloading 1142 rows in 0.3 seconds.\n"
     ]
    }
   ],
   "source": [
    "cases, deaths = spain_get_region(region=\"La Rioja\")"
   ]
  },
  {
   "cell_type": "code",
   "execution_count": 8,
   "metadata": {},
   "outputs": [
    {
     "data": {
      "text/plain": [
       "date\n",
       "NaT   NaN\n",
       "Name: Cases, dtype: float64"
      ]
     },
     "execution_count": 8,
     "metadata": {},
     "output_type": "execute_result"
    }
   ],
   "source": [
    "cases"
   ]
  },
  {
   "cell_type": "code",
   "execution_count": null,
   "metadata": {},
   "outputs": [],
   "source": []
  }
 ],
 "metadata": {
  "kernelspec": {
   "display_name": "Python 3",
   "language": "python",
   "name": "python3"
  },
  "language_info": {
   "codemirror_mode": {
    "name": "ipython",
    "version": 3
   },
   "file_extension": ".py",
   "mimetype": "text/x-python",
   "name": "python",
   "nbconvert_exporter": "python",
   "pygments_lexer": "ipython3",
   "version": "3.8.2"
  }
 },
 "nbformat": 4,
 "nbformat_minor": 4
}
