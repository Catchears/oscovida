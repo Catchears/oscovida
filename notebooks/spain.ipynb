{
 "cells": [
  {
   "cell_type": "markdown",
   "metadata": {},
   "source": [
    "# # Coronavirus 2020 - effectiveness of measures taken - Spain"
   ]
  },
  {
   "cell_type": "code",
   "execution_count": 1,
   "metadata": {},
   "outputs": [],
   "source": [
    "%config InlineBackend.figure_formats = ['svg']\n",
    "%matplotlib inline\n",
    "# Alternative plotting backend for interative data exploration\n",
    "# %matplotlib notebook\n",
    "\n",
    "from coronavirus import overview, spain_get_region\n",
    "\n",
    "# If you want to edit the source in the notebook, try \"%load coronavirus.py\" \n",
    "# and comment out the import statement above."
   ]
  },
  {
   "cell_type": "code",
   "execution_count": 2,
   "metadata": {},
   "outputs": [],
   "source": [
    "spanish_regions = [\"Andalucía\", \"Aragón\", \"Asturias\", \"Cantabria\", \"Ceuta\", \"Castilla y León\",\n",
    "                   \"Castilla-La Mancha\", \"Canarias\", \"Cataluña\", \"Extremadura\", \"Galicia\",\n",
    "                   \"Islas Baleares\", \"Murcia\", \"Com. Madrid\", \"Melilla\", \"Navarra\", \"País Vasco\",\n",
    "                   \"La Rioja\", \"Com. Valenciana\"]"
   ]
  },
  {
   "cell_type": "markdown",
   "metadata": {},
   "source": [
    "# Andalucía"
   ]
  },
  {
   "cell_type": "code",
   "execution_count": 4,
   "metadata": {},
   "outputs": [
    {
     "name": "stdout",
     "output_type": "stream",
     "text": [
      "Please be patient - downloading data from https://covid19.isciii.es/resources/serie_historica_acumulados.csv ...\n",
      "Completed downloading 1253 rows in 0.5 seconds.\n"
     ]
    }
   ],
   "source": [
    "cases_and, deaths_and = spain_get_region(region=\"Andalucía\")"
   ]
  },
  {
   "cell_type": "markdown",
   "metadata": {},
   "source": [
    "# La Rioja"
   ]
  },
  {
   "cell_type": "code",
   "execution_count": 5,
   "metadata": {},
   "outputs": [
    {
     "name": "stdout",
     "output_type": "stream",
     "text": [
      "Please be patient - downloading data from https://covid19.isciii.es/resources/serie_historica_acumulados.csv ...\n",
      "Completed downloading 1253 rows in 0.4 seconds.\n"
     ]
    }
   ],
   "source": [
    "cases_rio, deaths_rio = spain_get_region(region=\"La Rioja\")"
   ]
  },
  {
   "cell_type": "code",
   "execution_count": 7,
   "metadata": {},
   "outputs": [
    {
     "data": {
      "text/plain": [
       "date\n",
       "2020-02-20   NaN\n",
       "2020-02-21   NaN\n",
       "2020-02-22   NaN\n",
       "2020-02-23   NaN\n",
       "2020-02-24   NaN\n",
       "              ..\n",
       "2020-04-20   NaN\n",
       "2020-04-21   NaN\n",
       "2020-04-22   NaN\n",
       "2020-04-23   NaN\n",
       "2020-04-24   NaN\n",
       "Name: Cases, Length: 65, dtype: float64"
      ]
     },
     "execution_count": 7,
     "metadata": {},
     "output_type": "execute_result"
    }
   ],
   "source": [
    "cases_and"
   ]
  },
  {
   "cell_type": "markdown",
   "metadata": {},
   "source": [
    "# Comunidad de Madrid"
   ]
  },
  {
   "cell_type": "code",
   "execution_count": null,
   "metadata": {},
   "outputs": [],
   "source": [
    "cases, deaths = spain_get_region(region=\"Com. Madrid\")"
   ]
  },
  {
   "cell_type": "markdown",
   "metadata": {},
   "source": [
    "# Cataluña"
   ]
  },
  {
   "cell_type": "code",
   "execution_count": null,
   "metadata": {},
   "outputs": [],
   "source": [
    "cases, deaths = spain_get_region(region=\"Cataluña\")"
   ]
  },
  {
   "cell_type": "markdown",
   "metadata": {},
   "source": [
    "# País Vasco"
   ]
  },
  {
   "cell_type": "code",
   "execution_count": null,
   "metadata": {},
   "outputs": [],
   "source": [
    "cases, deaths = spain_get_region(region=\"País Vasco\")"
   ]
  },
  {
   "cell_type": "markdown",
   "metadata": {},
   "source": [
    "# Canarias"
   ]
  },
  {
   "cell_type": "code",
   "execution_count": null,
   "metadata": {},
   "outputs": [],
   "source": [
    "cases, deaths = spain_get_region(region=\"Canarias\")"
   ]
  },
  {
   "cell_type": "code",
   "execution_count": null,
   "metadata": {},
   "outputs": [],
   "source": [
    "cases"
   ]
  },
  {
   "cell_type": "code",
   "execution_count": null,
   "metadata": {},
   "outputs": [],
   "source": []
  }
 ],
 "metadata": {
  "kernelspec": {
   "display_name": "Python 3",
   "language": "python",
   "name": "python3"
  },
  "language_info": {
   "codemirror_mode": {
    "name": "ipython",
    "version": 3
   },
   "file_extension": ".py",
   "mimetype": "text/x-python",
   "name": "python",
   "nbconvert_exporter": "python",
   "pygments_lexer": "ipython3",
   "version": "3.6.9"
  }
 },
 "nbformat": 4,
 "nbformat_minor": 4
}
