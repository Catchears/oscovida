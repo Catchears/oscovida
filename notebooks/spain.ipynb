{
 "cells": [
  {
   "cell_type": "markdown",
   "metadata": {},
   "source": [
    "# # Coronavirus 2020 - effectiveness of measures taken - Spain"
   ]
  },
  {
   "cell_type": "code",
   "execution_count": 1,
   "metadata": {},
   "outputs": [],
   "source": [
    "import datetime\n",
    "import os\n",
    "import time\n",
    "import joblib\n",
    "import numpy as np\n",
    "import pandas as pd\n",
    "\n",
    "# choose font - can be deactivated\n",
    "from matplotlib import rcParams\n",
    "rcParams['font.family'] = 'sans-serif'\n",
    "rcParams['font.sans-serif'] = ['Inconsolata']\n",
    "# need many figures for index.ipynb and germany.ipynb\n",
    "rcParams['figure.max_open_warning'] = 50\n",
    "\n",
    "import matplotlib.pyplot as plt\n",
    "plt.style.use('ggplot')\n",
    "\n",
    "# suppress warning\n",
    "from pandas.plotting import register_matplotlib_converters\n",
    "register_matplotlib_converters()\n",
    "\n",
    "LW = 3   # line width\n",
    "\n",
    "# set up joblib memory to avoid re-fetching files\n",
    "joblib_location = \"./cachedir\"\n",
    "joblib_memory = joblib.Memory(joblib_location, verbose=0)\n",
    "\n",
    "%config InlineBackend.figure_formats = ['svg']\n",
    "%matplotlib inline\n",
    "# Alternative plotting backend for interative data exploration\n",
    "# %matplotlib notebook\n",
    "\n",
    "from coronavirus import overview, fetch_data_germany, germany_get_region\n",
    "\n",
    "# If you want to edit the source in the notebook, try \"%load coronavirus.py\" \n",
    "# and comment out the import statement above."
   ]
  },
  {
   "cell_type": "code",
   "execution_count": 2,
   "metadata": {},
   "outputs": [],
   "source": [
    "def clear_cache():\n",
    "    \"\"\"Need to run this before new data for the day is created\"\"\"\n",
    "    joblib_memory.clear()"
   ]
  },
  {
   "cell_type": "code",
   "execution_count": 3,
   "metadata": {},
   "outputs": [],
   "source": [
    "spanish_regions = [\"Andalucía\", \"Aragón\", \"Asturias\", \"Cantabria\", \"Ceuta\", \"Castilla y León\",\n",
    "                   \"Castilla-La Mancha\", \"Canarias\", \"Cataluña\", \"Extremadura\", \"Galicia\",\n",
    "                   \"Islas Baleares\", \"Murcia\", \"Com. Madrid\", \"Melilla\", \"Navarra\", \"País Vasco\",\n",
    "                   \"La Rioja\", \"Com. Valenciana\"]"
   ]
  },
  {
   "cell_type": "code",
   "execution_count": 4,
   "metadata": {},
   "outputs": [],
   "source": [
    "def rename_columns(spanish_data):\n",
    "    \"\"\"Rename columns for non-spanish speakers. \"\"\"\n",
    "    return spanish_data.rename(columns={'CCAA': 'Admin. region code',\n",
    "                                        'FECHA': 'Date',\n",
    "                                        'CASOS': 'Cases',\n",
    "                                        'Hospitalizados': 'Hospitalized',\n",
    "                                        'UCI': 'ICU',\n",
    "                                        'Fallecidos': 'Deceases',\n",
    "                                        'Recuperados': 'Recovered'}, inplace=True)"
   ]
  },
  {
   "cell_type": "code",
   "execution_count": 5,
   "metadata": {},
   "outputs": [],
   "source": [
    "#@joblib_memory.cache\n",
    "def fetch_data_last_execution():\n",
    "    return datetime.datetime.now().strftime(\"%d/%m/%Y %H:%M:%S\")\n",
    "\n",
    "#@joblib_memory.cache\n",
    "def fetch_data_spain():\n",
    "    \"\"\"Data source is https://covid19.isciii.es. The text on the webpage implies that \n",
    "    the data comes from the Minitry of Health. \"\"\"\n",
    "\n",
    "    datasource = \"https://covid19.isciii.es/resources/serie_historica_acumulados.csv\"\n",
    "    t0 = time.time()\n",
    "    print(f\"Please be patient - downloading data from {datasource} ...\")\n",
    "    spain = pd.read_csv(datasource, encoding=\"ISO-8859-1\", engine=\"python\", skipfooter=4)\n",
    "    rename_columns(spain)\n",
    "    delta_t = time.time() - t0\n",
    "    print(f\"Completed downloading {len(spain)} rows in {delta_t:.1f} seconds.\")\n",
    "\n",
    "    g2 = spain.set_index(pd.to_datetime(spain['Date']))\n",
    "    g2.drop(columns=['Date'],inplace=True)\n",
    "    g2.index.name = 'date'\n",
    "    last_day = g2.index[-1]\n",
    "    sel = g2.index == last_day\n",
    "    cleaned = g2.drop(g2[sel].index, inplace=False)\n",
    "    fetch_data_last_execution()\n",
    "    return cleaned\n",
    "\n",
    "def map_regions(spanish_data):\n",
    "    acronyms = sorted(set(spanish_data['Admin. region code']))\n",
    "    regions = dict(zip(acronyms, spanish_regions))\n",
    "    spanish_data['Region'] = spanish_data['Admin. region code'].map(regions)\n",
    "    spanish_data.drop(columns=['Admin. region code'], inplace=True)\n",
    "    return spanish_data"
   ]
  },
  {
   "cell_type": "code",
   "execution_count": 6,
   "metadata": {},
   "outputs": [],
   "source": [
    "def spain_get_region(region=None):\n",
    "    spain = fetch_data_spain()\n",
    "    spain = map_regions(spain)\n",
    "    \"\"\"Returns two time series: (cases, deaths)\"\"\"\n",
    "    assert region, \"Need to provide a value for the administrative region\"\n",
    "    \n",
    "    if region:\n",
    "        assert region in spain['Region'].values, \\\n",
    "            f\"{region} not in available Spanish Administrative Regions. These are {sorted(spain['Region'].drop_duplicates())}\"\n",
    "\n",
    "        region = spain[spain['Region'] == region]\n",
    "\n",
    "        # group over multiple rows for the same region\n",
    "        cases = region[\"Cases\"]\n",
    "        cases.country = f'Spain-{region}'\n",
    "        cases.label = 'cases'\n",
    "\n",
    "        deaths = region[\"Deceases\"]\n",
    "        deaths.country = f'Spain-{region}'\n",
    "        deaths.label = 'deaths'\n",
    "\n",
    "        return cases, deaths"
   ]
  },
  {
   "cell_type": "code",
   "execution_count": 7,
   "metadata": {},
   "outputs": [
    {
     "name": "stdout",
     "output_type": "stream",
     "text": [
      "Please be patient - downloading data from https://covid19.isciii.es/resources/serie_historica_acumulados.csv ...\n",
      "Completed downloading 1104 rows in 0.3 seconds.\n"
     ]
    }
   ],
   "source": [
    "cases, deaths = spain_get_region(region=\"Andalucía\")"
   ]
  },
  {
   "cell_type": "code",
   "execution_count": null,
   "metadata": {},
   "outputs": [],
   "source": []
  }
 ],
 "metadata": {
  "kernelspec": {
   "display_name": "Python 3",
   "language": "python",
   "name": "python3"
  },
  "language_info": {
   "codemirror_mode": {
    "name": "ipython",
    "version": 3
   },
   "file_extension": ".py",
   "mimetype": "text/x-python",
   "name": "python",
   "nbconvert_exporter": "python",
   "pygments_lexer": "ipython3",
   "version": "3.8.2"
  }
 },
 "nbformat": 4,
 "nbformat_minor": 4
}
