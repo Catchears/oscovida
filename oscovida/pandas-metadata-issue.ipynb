{
 "cells": [
  {
   "cell_type": "markdown",
   "metadata": {},
   "source": [
    "## Pandas Metadata Issue\n",
    "\n",
    "### Goal\n",
    "\n",
    "The aim sounds simple: implement a pandas extension that computes some additional columns, and adds a metadata attribute to them.\n",
    "\n",
    "For example:\n",
    "\n",
    "```python\n",
    ">> region = Region('GBR')\n",
    ">> region_data = region.data # Data with columns like ['confirmed', 'deaths', 'recovered']\n",
    ">> region_data = region_data.covid.smooth() # Adds ['confirmed_smooth', 'deaths_smooth', 'recovered_smooth']\n",
    "\n",
    "# And then...\n",
    ">>> region_data.confirmed_smooth.attrs # Contains some metadata, in this case arguments used to create the smoothed data:\n",
    "{\n",
    "    'smooth': (\n",
    "        'weak',\n",
    "        (\n",
    "            {'window': 9, 'center': True, 'win_type': 'gaussian', 'min_periods': 1},\n",
    "            {'mean_std': 3},\n",
    "        ),\n",
    "    )\n",
    "}\n",
    "\n",
    "# Or with a custom attribute instead of attrs:\n",
    ">>> region_data.confirmed_smooth.oscovida_metadata\n",
    "{\n",
    "    'smooth': (\n",
    "        'weak',\n",
    "        (\n",
    "            {'window': 9, 'center': True, 'win_type': 'gaussian', 'min_periods': 1},\n",
    "            {'mean_std': 3},\n",
    "        ),\n",
    "    )\n",
    "}\n",
    "```\n",
    "\n",
    "But apparently this kind of thing is actually not easy to implement..."
   ]
  },
  {
   "cell_type": "markdown",
   "metadata": {},
   "source": [
    "### Minimum Example"
   ]
  },
  {
   "cell_type": "code",
   "execution_count": 1,
   "metadata": {},
   "outputs": [],
   "source": [
    "import pandas as pd"
   ]
  },
  {
   "cell_type": "code",
   "execution_count": 2,
   "metadata": {},
   "outputs": [
    {
     "data": {
      "text/html": [
       "<div>\n",
       "<style scoped>\n",
       "    .dataframe tbody tr th:only-of-type {\n",
       "        vertical-align: middle;\n",
       "    }\n",
       "\n",
       "    .dataframe tbody tr th {\n",
       "        vertical-align: top;\n",
       "    }\n",
       "\n",
       "    .dataframe thead th {\n",
       "        text-align: right;\n",
       "    }\n",
       "</style>\n",
       "<table border=\"1\" class=\"dataframe\">\n",
       "  <thead>\n",
       "    <tr style=\"text-align: right;\">\n",
       "      <th></th>\n",
       "      <th>col1</th>\n",
       "      <th>col2</th>\n",
       "    </tr>\n",
       "  </thead>\n",
       "  <tbody>\n",
       "    <tr>\n",
       "      <th>0</th>\n",
       "      <td>1</td>\n",
       "      <td>3</td>\n",
       "    </tr>\n",
       "    <tr>\n",
       "      <th>1</th>\n",
       "      <td>2</td>\n",
       "      <td>4</td>\n",
       "    </tr>\n",
       "  </tbody>\n",
       "</table>\n",
       "</div>"
      ],
      "text/plain": [
       "   col1  col2\n",
       "0     1     3\n",
       "1     2     4"
      ]
     },
     "execution_count": 2,
     "metadata": {},
     "output_type": "execute_result"
    }
   ],
   "source": [
    "df = pd.DataFrame({'col1': [1, 2], 'col2': [3, 4]})\n",
    "df"
   ]
  },
  {
   "cell_type": "code",
   "execution_count": 3,
   "metadata": {},
   "outputs": [],
   "source": [
    "@pd.api.extensions.register_series_accessor('test')\n",
    "class TestSeriesAccessor:\n",
    "    def __init__(self, pandas_object: pd.Series):\n",
    "        self._obj = pandas_object\n",
    "    \n",
    "    def metacs(self) -> pd.Series:\n",
    "        res = self._obj.cumsum()\n",
    "        res.attrs['meta'] = f\"Metadata attached to cumsum column {self._obj.name}\"\n",
    "        return res"
   ]
  },
  {
   "cell_type": "code",
   "execution_count": 4,
   "metadata": {},
   "outputs": [
    {
     "data": {
      "text/plain": [
       "0    1\n",
       "1    3\n",
       "Name: col1, dtype: int64"
      ]
     },
     "execution_count": 4,
     "metadata": {},
     "output_type": "execute_result"
    }
   ],
   "source": [
    "col1_with_meta = df.col1.test.metacs()\n",
    "col1_with_meta"
   ]
  },
  {
   "cell_type": "code",
   "execution_count": 5,
   "metadata": {},
   "outputs": [
    {
     "data": {
      "text/plain": [
       "{'meta': 'Metadata attached to cumsum column col1'}"
      ]
     },
     "execution_count": 5,
     "metadata": {},
     "output_type": "execute_result"
    }
   ],
   "source": [
    "col1_with_meta.attrs"
   ]
  },
  {
   "cell_type": "markdown",
   "metadata": {},
   "source": [
    "Well that was easy!\n",
    "\n",
    "Bbbbuuuttt try to use this within a dataframe and:"
   ]
  },
  {
   "cell_type": "code",
   "execution_count": 6,
   "metadata": {},
   "outputs": [],
   "source": [
    "df['col1_with_meta'] = col1_with_meta"
   ]
  },
  {
   "cell_type": "code",
   "execution_count": 7,
   "metadata": {},
   "outputs": [
    {
     "data": {
      "text/plain": [
       "{}"
      ]
     },
     "execution_count": 7,
     "metadata": {},
     "output_type": "execute_result"
    }
   ],
   "source": [
    "df.col1_with_meta.attrs"
   ]
  },
  {
   "cell_type": "markdown",
   "metadata": {},
   "source": [
    "RIP metadata."
   ]
  },
  {
   "cell_type": "markdown",
   "metadata": {},
   "source": [
    "### Troubleshooting"
   ]
  },
  {
   "cell_type": "code",
   "execution_count": 47,
   "metadata": {},
   "outputs": [
    {
     "data": {
      "text/html": [
       "<div>\n",
       "<style scoped>\n",
       "    .dataframe tbody tr th:only-of-type {\n",
       "        vertical-align: middle;\n",
       "    }\n",
       "\n",
       "    .dataframe tbody tr th {\n",
       "        vertical-align: top;\n",
       "    }\n",
       "\n",
       "    .dataframe thead th {\n",
       "        text-align: right;\n",
       "    }\n",
       "</style>\n",
       "<table border=\"1\" class=\"dataframe\">\n",
       "  <thead>\n",
       "    <tr style=\"text-align: right;\">\n",
       "      <th></th>\n",
       "      <th>col1</th>\n",
       "      <th>col2</th>\n",
       "    </tr>\n",
       "  </thead>\n",
       "  <tbody>\n",
       "    <tr>\n",
       "      <th>0</th>\n",
       "      <td>1</td>\n",
       "      <td>3</td>\n",
       "    </tr>\n",
       "    <tr>\n",
       "      <th>1</th>\n",
       "      <td>2</td>\n",
       "      <td>4</td>\n",
       "    </tr>\n",
       "  </tbody>\n",
       "</table>\n",
       "</div>"
      ],
      "text/plain": [
       "   col1  col2\n",
       "0     1     3\n",
       "1     2     4"
      ]
     },
     "execution_count": 47,
     "metadata": {},
     "output_type": "execute_result"
    }
   ],
   "source": [
    "df = pd.DataFrame({'col1': [1, 2], 'col2': [3, 4]})\n",
    "df"
   ]
  },
  {
   "cell_type": "code",
   "execution_count": 50,
   "metadata": {},
   "outputs": [],
   "source": [
    "col1_with_meta = df.col1.test.metacs()\n",
    "df = df.assign(col1_with_meta=col1_with_meta)"
   ]
  },
  {
   "cell_type": "code",
   "execution_count": 51,
   "metadata": {},
   "outputs": [
    {
     "data": {
      "text/plain": [
       "{}"
      ]
     },
     "execution_count": 51,
     "metadata": {},
     "output_type": "execute_result"
    }
   ],
   "source": [
    "col1_with_meta.attrs\n",
    "df['col1_with_meta'].attrs"
   ]
  },
  {
   "cell_type": "code",
   "execution_count": 52,
   "metadata": {},
   "outputs": [
    {
     "data": {
      "text/plain": [
       "{'meta': 'Metadata attached to cumsum column col1'}"
      ]
     },
     "execution_count": 52,
     "metadata": {},
     "output_type": "execute_result"
    }
   ],
   "source": [
    "df['col1_with_meta'].__finalize__(col1_with_meta)\n",
    "df['col1_with_meta'].attrs"
   ]
  },
  {
   "cell_type": "code",
   "execution_count": 53,
   "metadata": {},
   "outputs": [],
   "source": [
    "col2_with_meta = df.col2.test.metacs()\n",
    "df = df.assign(col2_with_meta=col2_with_meta)"
   ]
  },
  {
   "cell_type": "code",
   "execution_count": 54,
   "metadata": {},
   "outputs": [
    {
     "data": {
      "text/plain": [
       "{'meta': 'Metadata attached to cumsum column col2'}"
      ]
     },
     "execution_count": 54,
     "metadata": {},
     "output_type": "execute_result"
    }
   ],
   "source": [
    "df['col2_with_meta'].__finalize__(col2_with_meta)\n",
    "df['col2_with_meta'].attrs"
   ]
  },
  {
   "cell_type": "code",
   "execution_count": 55,
   "metadata": {},
   "outputs": [
    {
     "data": {
      "text/plain": [
       "{}"
      ]
     },
     "execution_count": 55,
     "metadata": {},
     "output_type": "execute_result"
    }
   ],
   "source": [
    "df['col1_with_meta'].attrs"
   ]
  },
  {
   "cell_type": "markdown",
   "metadata": {},
   "source": [
    "Woo it worked! How about doing this to another column?"
   ]
  },
  {
   "cell_type": "code",
   "execution_count": 25,
   "metadata": {},
   "outputs": [
    {
     "data": {
      "text/plain": [
       "{'meta': 'Metadata attached to cumsum column col2'}"
      ]
     },
     "execution_count": 25,
     "metadata": {},
     "output_type": "execute_result"
    }
   ],
   "source": [
    "col2_with_meta = df.col2.test.metacs()\n",
    "col2_with_meta.attrs"
   ]
  },
  {
   "cell_type": "code",
   "execution_count": 10,
   "metadata": {},
   "outputs": [
    {
     "name": "stdout",
     "output_type": "stream",
     "text": [
      "Stored attrs: {'meta': 'Metadata attached to cumsum column col2'}\n",
      "df col2 meta attrs:  {'meta': 'Metadata attached to cumsum column col2'}\n"
     ]
    }
   ],
   "source": [
    "# Force the finalize step?\n",
    "print(\"Stored attrs:\", col2_with_meta.attrs) # Check that the metadata is still there\n",
    "df['col2_with_meta'] = col2_with_meta\n",
    "df['col2_with_meta'].__finalize__(col2_with_meta)\n",
    "print(\"df col2 meta attrs: \", df.col2_with_meta.attrs)"
   ]
  },
  {
   "cell_type": "markdown",
   "metadata": {},
   "source": [
    "Awesome!"
   ]
  },
  {
   "cell_type": "code",
   "execution_count": 11,
   "metadata": {},
   "outputs": [
    {
     "name": "stdout",
     "output_type": "stream",
     "text": [
      "df col1 meta attrs:  {}\n",
      "df col2 meta attrs:  {'meta': 'Metadata attached to cumsum column col2'}\n"
     ]
    }
   ],
   "source": [
    "print(\"df col1 meta attrs: \", df.col1_with_meta.attrs)\n",
    "print(\"df col2 meta attrs: \", df.col2_with_meta.attrs)"
   ]
  },
  {
   "cell_type": "markdown",
   "metadata": {},
   "source": [
    "![](https://media2.giphy.com/media/3oriO5t2QB4IPKgxHi/200.gif)"
   ]
  },
  {
   "cell_type": "markdown",
   "metadata": {},
   "source": [
    "### Troubleshooting 2: Electric Boogaloo"
   ]
  },
  {
   "cell_type": "code",
   "execution_count": 12,
   "metadata": {},
   "outputs": [],
   "source": [
    "df = pd.DataFrame({'col1': [1, 2], 'col2': [3, 4]})"
   ]
  },
  {
   "cell_type": "code",
   "execution_count": 13,
   "metadata": {},
   "outputs": [
    {
     "name": "stdout",
     "output_type": "stream",
     "text": [
      "df col1 meta attrs:  {'meta': 'Metadata attached to cumsum column col1'}\n",
      "df col1 meta id: 139777223281344\n"
     ]
    }
   ],
   "source": [
    "col1_with_meta = df.col1.test.metacs()\n",
    "df['col1_with_meta'] = col1_with_meta\n",
    "df['col1_with_meta'].__finalize__(col1_with_meta)\n",
    "print(\"df col1 meta attrs: \", df.col1_with_meta.attrs)\n",
    "print(\"df col1 meta id:\", id(df.col1_with_meta.attrs))"
   ]
  },
  {
   "cell_type": "code",
   "execution_count": 14,
   "metadata": {},
   "outputs": [
    {
     "name": "stdout",
     "output_type": "stream",
     "text": [
      "df col2 meta attrs:  {'meta': 'Metadata attached to cumsum column col2'}\n",
      "df col2 meta id: 139777223288320\n"
     ]
    }
   ],
   "source": [
    "col1_with_meta = df.col2.test.metacs()\n",
    "df['col2_with_meta'] = col2_with_meta\n",
    "df['col2_with_meta'].__finalize__(col2_with_meta)\n",
    "print(\"df col2 meta attrs: \", df.col2_with_meta.attrs)\n",
    "print(\"df col2 meta id:\", id(df.col2_with_meta.attrs))"
   ]
  },
  {
   "cell_type": "code",
   "execution_count": 15,
   "metadata": {},
   "outputs": [
    {
     "name": "stdout",
     "output_type": "stream",
     "text": [
      "df col1 meta id: 139777223281152\n",
      "df col2 meta id: 139777223288320\n"
     ]
    }
   ],
   "source": [
    "print(\"df col1 meta id:\", id(df.col1_with_meta.attrs)) # Changes for some reason\n",
    "print(\"df col2 meta id:\", id(df.col2_with_meta.attrs))"
   ]
  },
  {
   "cell_type": "code",
   "execution_count": 16,
   "metadata": {},
   "outputs": [
    {
     "name": "stdout",
     "output_type": "stream",
     "text": [
      "df col1 meta attrs:  {}\n",
      "df col2 meta attrs:  {'meta': 'Metadata attached to cumsum column col2'}\n"
     ]
    }
   ],
   "source": [
    "print(\"df col1 meta attrs: \", df.col1_with_meta.attrs)\n",
    "print(\"df col2 meta attrs: \", df.col2_with_meta.attrs)"
   ]
  },
  {
   "cell_type": "markdown",
   "metadata": {},
   "source": [
    "### Troubleshooting 3"
   ]
  },
  {
   "cell_type": "code",
   "execution_count": 17,
   "metadata": {},
   "outputs": [],
   "source": [
    "df = pd.DataFrame({'col1': [1, 2], 'col2': [3, 4]})"
   ]
  },
  {
   "cell_type": "code",
   "execution_count": 18,
   "metadata": {},
   "outputs": [
    {
     "name": "stdout",
     "output_type": "stream",
     "text": [
      "df col1 meta id: 139777223305088\n",
      "df col1 meta id: 139777223305088\n"
     ]
    }
   ],
   "source": [
    "col1_with_meta = df.col1.test.metacs()\n",
    "df['col1_with_meta'] = col1_with_meta\n",
    "print(\"df col1 meta id:\", id(df.col1_with_meta.attrs))\n",
    "df['col1_with_meta'].__finalize__(col1_with_meta)\n",
    "print(\"df col1 meta id:\", id(df.col1_with_meta.attrs))"
   ]
  },
  {
   "cell_type": "code",
   "execution_count": 19,
   "metadata": {},
   "outputs": [
    {
     "name": "stdout",
     "output_type": "stream",
     "text": [
      "df col1 meta id: 139777223305088\n",
      "df col1 meta id: 139777222784960 !!! col1 attrs changes after col2 is added 😭😭😭\n",
      "df col1 meta id: 139777222784960\n"
     ]
    }
   ],
   "source": [
    "col1_with_meta = df.col2.test.metacs()\n",
    "print(\"df col1 meta id:\", id(df.col1_with_meta.attrs))\n",
    "df['col2_with_meta'] = col2_with_meta\n",
    "print(\"df col1 meta id:\", id(df.col1_with_meta.attrs), \"!!! col1 attrs changes after col2 is added 😭😭😭\") # But why though\n",
    "df['col2_with_meta'].__finalize__(col2_with_meta)\n",
    "print(\"df col1 meta id:\", id(df.col1_with_meta.attrs))"
   ]
  },
  {
   "cell_type": "markdown",
   "metadata": {},
   "source": [
    "### Troubleshooting 4"
   ]
  },
  {
   "cell_type": "code",
   "execution_count": 122,
   "metadata": {},
   "outputs": [
    {
     "name": "stderr",
     "output_type": "stream",
     "text": [
      "<ipython-input-122-08e47fa93dab>:2: UserWarning: registration of accessor <class '__main__.TestSeriesAccessor'> under name 'test2' for type <class 'pandas.core.series.Series'> is overriding a preexistingattribute with the same name.\n",
      "  class TestSeriesAccessor:\n"
     ]
    }
   ],
   "source": [
    "@pd.api.extensions.register_series_accessor('test2')\n",
    "class TestSeriesAccessor:\n",
    "    def __init__(self, pandas_object: pd.Series):\n",
    "        self._obj = pandas_object\n",
    "        # `_metadata` is a list of strings, strings in it refer to\n",
    "        # attributes which *should* be kept during standard pandas\n",
    "        # operations. If you add an attribute manually and don't add\n",
    "        # it to the _metadata list it will be lost\n",
    "        if 'oscovida_metadata' not in self._obj._metadata:\n",
    "            self._obj._metadata.append('oscovida_metadata')\n",
    "        \n",
    "        if not hasattr(self._obj, 'oscovida_metadata'):\n",
    "            self._obj.oscovida_metadata = {}\n",
    "    \n",
    "    def metacs(self) -> pd.Series:\n",
    "        res = self._obj.cumsum()\n",
    "        res.oscovida_metadata['meta'] = f\"Metadata attached to cumsum column {self._obj.name}\"\n",
    "        return res"
   ]
  },
  {
   "cell_type": "code",
   "execution_count": 123,
   "metadata": {},
   "outputs": [],
   "source": [
    "df = pd.DataFrame({'col1': [1, 2], 'col2': [3, 4]})"
   ]
  },
  {
   "cell_type": "code",
   "execution_count": 124,
   "metadata": {},
   "outputs": [
    {
     "data": {
      "text/plain": [
       "{'meta': 'Metadata attached to cumsum column col1'}"
      ]
     },
     "execution_count": 124,
     "metadata": {},
     "output_type": "execute_result"
    }
   ],
   "source": [
    "col1_with_meta = df.col1.test2.metacs()\n",
    "col1_with_meta.oscovida_metadata"
   ]
  },
  {
   "cell_type": "code",
   "execution_count": 125,
   "metadata": {},
   "outputs": [
    {
     "data": {
      "text/plain": [
       "{'meta': 'Metadata attached to cumsum column col1'}"
      ]
     },
     "execution_count": 125,
     "metadata": {},
     "output_type": "execute_result"
    }
   ],
   "source": [
    "df['col1_with_meta'] = col1_with_metacol1_with_meta = df.col1.test2.metacs()\n",
    "col1_with_meta.oscovida_metadatacol1_with_meta = df.col1.test2.metacs()\n",
    "col1_with_meta.oscovida_metadata"
   ]
  },
  {
   "cell_type": "code",
   "execution_count": 126,
   "metadata": {},
   "outputs": [
    {
     "ename": "AttributeError",
     "evalue": "'Series' object has no attribute 'oscovida_metadata'",
     "output_type": "error",
     "traceback": [
      "\u001b[0;31m---------------------------------------------------------------------------\u001b[0m",
      "\u001b[0;31mAttributeError\u001b[0m                            Traceback (most recent call last)",
      "\u001b[0;32m<ipython-input-126-55772dd664ff>\u001b[0m in \u001b[0;36m<module>\u001b[0;34m\u001b[0m\n\u001b[0;32m----> 1\u001b[0;31m \u001b[0mdf\u001b[0m\u001b[0;34m[\u001b[0m\u001b[0;34m'col1_with_meta'\u001b[0m\u001b[0;34m]\u001b[0m\u001b[0;34m.\u001b[0m\u001b[0moscovida_metadata\u001b[0m\u001b[0;34m\u001b[0m\u001b[0;34m\u001b[0m\u001b[0m\n\u001b[0m",
      "\u001b[0;32m~/.cache/pypoetry/virtualenvs/oscovida-Mj8QHfQH-py3.8/lib/python3.8/site-packages/pandas/core/generic.py\u001b[0m in \u001b[0;36m__getattr__\u001b[0;34m(self, name)\u001b[0m\n\u001b[1;32m   5268\u001b[0m             \u001b[0;32mor\u001b[0m \u001b[0mname\u001b[0m \u001b[0;32min\u001b[0m \u001b[0mself\u001b[0m\u001b[0;34m.\u001b[0m\u001b[0m_accessors\u001b[0m\u001b[0;34m\u001b[0m\u001b[0;34m\u001b[0m\u001b[0m\n\u001b[1;32m   5269\u001b[0m         ):\n\u001b[0;32m-> 5270\u001b[0;31m             \u001b[0;32mreturn\u001b[0m \u001b[0mobject\u001b[0m\u001b[0;34m.\u001b[0m\u001b[0m__getattribute__\u001b[0m\u001b[0;34m(\u001b[0m\u001b[0mself\u001b[0m\u001b[0;34m,\u001b[0m \u001b[0mname\u001b[0m\u001b[0;34m)\u001b[0m\u001b[0;34m\u001b[0m\u001b[0;34m\u001b[0m\u001b[0m\n\u001b[0m\u001b[1;32m   5271\u001b[0m         \u001b[0;32melse\u001b[0m\u001b[0;34m:\u001b[0m\u001b[0;34m\u001b[0m\u001b[0;34m\u001b[0m\u001b[0m\n\u001b[1;32m   5272\u001b[0m             \u001b[0;32mif\u001b[0m \u001b[0mself\u001b[0m\u001b[0;34m.\u001b[0m\u001b[0m_info_axis\u001b[0m\u001b[0;34m.\u001b[0m\u001b[0m_can_hold_identifiers_and_holds_name\u001b[0m\u001b[0;34m(\u001b[0m\u001b[0mname\u001b[0m\u001b[0;34m)\u001b[0m\u001b[0;34m:\u001b[0m\u001b[0;34m\u001b[0m\u001b[0;34m\u001b[0m\u001b[0m\n",
      "\u001b[0;31mAttributeError\u001b[0m: 'Series' object has no attribute 'oscovida_metadata'"
     ]
    }
   ],
   "source": [
    "df['col1_with_meta'].oscovida_metadata"
   ]
  },
  {
   "cell_type": "markdown",
   "metadata": {},
   "source": [
    "ok..."
   ]
  },
  {
   "cell_type": "code",
   "execution_count": 127,
   "metadata": {},
   "outputs": [
    {
     "data": {
      "text/plain": [
       "0    1\n",
       "1    3\n",
       "Name: col1, dtype: int64"
      ]
     },
     "execution_count": 127,
     "metadata": {},
     "output_type": "execute_result"
    }
   ],
   "source": [
    "df['col1_with_meta'].__finalize__(col1_with_meta)"
   ]
  },
  {
   "cell_type": "code",
   "execution_count": 128,
   "metadata": {},
   "outputs": [
    {
     "data": {
      "text/plain": [
       "{'meta': 'Metadata attached to cumsum column col1'}"
      ]
     },
     "execution_count": 128,
     "metadata": {},
     "output_type": "execute_result"
    }
   ],
   "source": [
    "df['col1_with_meta'].oscovida_metadata"
   ]
  },
  {
   "cell_type": "markdown",
   "metadata": {},
   "source": [
    "Progress!"
   ]
  },
  {
   "cell_type": "code",
   "execution_count": 129,
   "metadata": {},
   "outputs": [
    {
     "data": {
      "text/plain": [
       "0    3\n",
       "1    7\n",
       "Name: col2, dtype: int64"
      ]
     },
     "execution_count": 129,
     "metadata": {},
     "output_type": "execute_result"
    }
   ],
   "source": [
    "col2_with_meta = df.col2.test2.metacs()\n",
    "df['col2_with_meta'] = col2_with_meta\n",
    "df['col2_with_meta'].__finalize__(col2_with_meta)"
   ]
  },
  {
   "cell_type": "code",
   "execution_count": 134,
   "metadata": {},
   "outputs": [
    {
     "ename": "AttributeError",
     "evalue": "'TestSeriesAccessor' object has no attribute 'oscovida_metadata'",
     "output_type": "error",
     "traceback": [
      "\u001b[0;31m---------------------------------------------------------------------------\u001b[0m",
      "\u001b[0;31mAttributeError\u001b[0m                            Traceback (most recent call last)",
      "\u001b[0;32m<ipython-input-134-b64dcd4a6574>\u001b[0m in \u001b[0;36m<module>\u001b[0;34m\u001b[0m\n\u001b[0;32m----> 1\u001b[0;31m \u001b[0mdf\u001b[0m\u001b[0;34m[\u001b[0m\u001b[0;34m'col2_with_meta'\u001b[0m\u001b[0;34m]\u001b[0m\u001b[0;34m.\u001b[0m\u001b[0mtest2\u001b[0m\u001b[0;34m.\u001b[0m\u001b[0moscovida_metadata\u001b[0m\u001b[0;34m\u001b[0m\u001b[0;34m\u001b[0m\u001b[0m\n\u001b[0m",
      "\u001b[0;31mAttributeError\u001b[0m: 'TestSeriesAccessor' object has no attribute 'oscovida_metadata'"
     ]
    }
   ],
   "source": [
    "df['col2_with_meta'].test2.oscovida_metadata"
   ]
  },
  {
   "cell_type": "code",
   "execution_count": 131,
   "metadata": {},
   "outputs": [
    {
     "ename": "AttributeError",
     "evalue": "'Series' object has no attribute 'oscovida_metadata'",
     "output_type": "error",
     "traceback": [
      "\u001b[0;31m---------------------------------------------------------------------------\u001b[0m",
      "\u001b[0;31mAttributeError\u001b[0m                            Traceback (most recent call last)",
      "\u001b[0;32m<ipython-input-131-55772dd664ff>\u001b[0m in \u001b[0;36m<module>\u001b[0;34m\u001b[0m\n\u001b[0;32m----> 1\u001b[0;31m \u001b[0mdf\u001b[0m\u001b[0;34m[\u001b[0m\u001b[0;34m'col1_with_meta'\u001b[0m\u001b[0;34m]\u001b[0m\u001b[0;34m.\u001b[0m\u001b[0moscovida_metadata\u001b[0m\u001b[0;34m\u001b[0m\u001b[0;34m\u001b[0m\u001b[0m\n\u001b[0m",
      "\u001b[0;32m~/.cache/pypoetry/virtualenvs/oscovida-Mj8QHfQH-py3.8/lib/python3.8/site-packages/pandas/core/generic.py\u001b[0m in \u001b[0;36m__getattr__\u001b[0;34m(self, name)\u001b[0m\n\u001b[1;32m   5268\u001b[0m             \u001b[0;32mor\u001b[0m \u001b[0mname\u001b[0m \u001b[0;32min\u001b[0m \u001b[0mself\u001b[0m\u001b[0;34m.\u001b[0m\u001b[0m_accessors\u001b[0m\u001b[0;34m\u001b[0m\u001b[0;34m\u001b[0m\u001b[0m\n\u001b[1;32m   5269\u001b[0m         ):\n\u001b[0;32m-> 5270\u001b[0;31m             \u001b[0;32mreturn\u001b[0m \u001b[0mobject\u001b[0m\u001b[0;34m.\u001b[0m\u001b[0m__getattribute__\u001b[0m\u001b[0;34m(\u001b[0m\u001b[0mself\u001b[0m\u001b[0;34m,\u001b[0m \u001b[0mname\u001b[0m\u001b[0;34m)\u001b[0m\u001b[0;34m\u001b[0m\u001b[0;34m\u001b[0m\u001b[0m\n\u001b[0m\u001b[1;32m   5271\u001b[0m         \u001b[0;32melse\u001b[0m\u001b[0;34m:\u001b[0m\u001b[0;34m\u001b[0m\u001b[0;34m\u001b[0m\u001b[0m\n\u001b[1;32m   5272\u001b[0m             \u001b[0;32mif\u001b[0m \u001b[0mself\u001b[0m\u001b[0;34m.\u001b[0m\u001b[0m_info_axis\u001b[0m\u001b[0;34m.\u001b[0m\u001b[0m_can_hold_identifiers_and_holds_name\u001b[0m\u001b[0;34m(\u001b[0m\u001b[0mname\u001b[0m\u001b[0;34m)\u001b[0m\u001b[0;34m:\u001b[0m\u001b[0;34m\u001b[0m\u001b[0;34m\u001b[0m\u001b[0m\n",
      "\u001b[0;31mAttributeError\u001b[0m: 'Series' object has no attribute 'oscovida_metadata'"
     ]
    }
   ],
   "source": [
    "df['col1_with_meta'].oscovida_metadata"
   ]
  },
  {
   "cell_type": "markdown",
   "metadata": {},
   "source": [
    "Aaannndd it's gone again\n",
    "\n",
    "![](https://en.meming.world/images/en/thumb/6/6e/Surprised_Pikachu.jpg/300px-Surprised_Pikachu.jpg)"
   ]
  },
  {
   "cell_type": "markdown",
   "metadata": {},
   "source": [
    "### Accepting Defeat\n",
    "\n",
    "Before I make an issue for pandas, does anybody have a clue why this happens? Am I missing some obvious thing in python that everybody else knows about and I've somehow never encountered so far or what?"
   ]
  },
  {
   "cell_type": "code",
   "execution_count": 1,
   "metadata": {},
   "outputs": [],
   "source": [
    "import pandas as pd"
   ]
  },
  {
   "cell_type": "code",
   "execution_count": 2,
   "metadata": {},
   "outputs": [],
   "source": [
    "class SubclassedSeries(pd.Series):\n",
    "\n",
    "    @property\n",
    "    def _constructor(self):\n",
    "        print(\"SubclassedSeries._constructor:\", self.attrs)\n",
    "        return SubclassedSeries\n",
    "\n",
    "    @property\n",
    "    def _constructor_expanddim(self):\n",
    "        print(\"SubclassedSeries._constructor_expanddim:\", self.attrs)\n",
    "        return SubclassedDataFrame\n",
    "\n",
    "\n",
    "class SubclassedDataFrame(pd.DataFrame):\n",
    "    @property\n",
    "    def _constructor(self):\n",
    "        print(\"SubclassedDataFrame._constructor:\", self.attrs)\n",
    "        return SubclassedDataFrame\n",
    "\n",
    "    @property\n",
    "    def _constructor_sliced(self):\n",
    "        print(\"SubclassedDataFrame._constructor_expanddim:\", self.attrs)\n",
    "        return SubclassedSeries"
   ]
  },
  {
   "cell_type": "code",
   "execution_count": 3,
   "metadata": {},
   "outputs": [],
   "source": [
    "@pd.api.extensions.register_series_accessor('test')\n",
    "class TestSeriesAccessor:\n",
    "    def __init__(self, pandas_object: SubclassedSeries):\n",
    "        self._obj = pandas_object\n",
    "        # `_metadata` is a list of strings, strings in it refer to\n",
    "        # attributes which *should* be kept during standard pandas\n",
    "        # operations. If you add an attribute manually and don't add\n",
    "        # it to the _metadata list it will be lost\n",
    "    \n",
    "    def metacs(self) -> SubclassedSeries:\n",
    "        res = self._obj.cumsum()\n",
    "        res.attrs['meta'] = f\"Metadata attached to cumsum column {self._obj.name}\"\n",
    "        print(\"TestSeriesAccessor.metacs:\", res.attrs)\n",
    "        return res"
   ]
  },
  {
   "cell_type": "code",
   "execution_count": 4,
   "metadata": {},
   "outputs": [],
   "source": [
    "df = SubclassedDataFrame({'col1': [1, 2], 'col2': [3, 4]})"
   ]
  },
  {
   "cell_type": "code",
   "execution_count": 5,
   "metadata": {},
   "outputs": [],
   "source": [
    "df.attrs['df_meta'] = True"
   ]
  },
  {
   "cell_type": "code",
   "execution_count": 6,
   "metadata": {},
   "outputs": [
    {
     "name": "stdout",
     "output_type": "stream",
     "text": [
      "SubclassedDataFrame._constructor_expanddim: {'df_meta': True}\n",
      "SubclassedSeries._constructor: {}\n",
      "TestSeriesAccessor.metacs: {'meta': 'Metadata attached to cumsum column col1'}\n"
     ]
    }
   ],
   "source": [
    "col1_m = df.col1.test.metacs()"
   ]
  },
  {
   "cell_type": "code",
   "execution_count": 7,
   "metadata": {},
   "outputs": [
    {
     "data": {
      "text/plain": [
       "{'meta': 'Metadata attached to cumsum column col1'}"
      ]
     },
     "execution_count": 7,
     "metadata": {},
     "output_type": "execute_result"
    }
   ],
   "source": [
    "col1_m.attrs"
   ]
  },
  {
   "cell_type": "code",
   "execution_count": 8,
   "metadata": {},
   "outputs": [
    {
     "name": "stdout",
     "output_type": "stream",
     "text": [
      "SubclassedDataFrame._constructor: {'df_meta': True}\n"
     ]
    }
   ],
   "source": [
    "df = df.assign(col1_m=col1_m)"
   ]
  },
  {
   "cell_type": "code",
   "execution_count": 9,
   "metadata": {},
   "outputs": [
    {
     "name": "stdout",
     "output_type": "stream",
     "text": [
      "SubclassedDataFrame._constructor_expanddim: {'df_meta': True}\n"
     ]
    },
    {
     "data": {
      "text/plain": [
       "{}"
      ]
     },
     "execution_count": 9,
     "metadata": {},
     "output_type": "execute_result"
    }
   ],
   "source": [
    "df.col1_m.attrs"
   ]
  },
  {
   "cell_type": "code",
   "execution_count": 10,
   "metadata": {},
   "outputs": [
    {
     "data": {
      "text/plain": [
       "0    1\n",
       "1    3\n",
       "Name: col1, dtype: int64"
      ]
     },
     "execution_count": 10,
     "metadata": {},
     "output_type": "execute_result"
    }
   ],
   "source": [
    "df.col1_m.__finalize__(col1_m)"
   ]
  },
  {
   "cell_type": "code",
   "execution_count": 11,
   "metadata": {},
   "outputs": [
    {
     "data": {
      "text/plain": [
       "{'meta': 'Metadata attached to cumsum column col1'}"
      ]
     },
     "execution_count": 11,
     "metadata": {},
     "output_type": "execute_result"
    }
   ],
   "source": [
    "df.col1_m.attrs"
   ]
  },
  {
   "cell_type": "code",
   "execution_count": 12,
   "metadata": {},
   "outputs": [
    {
     "name": "stdout",
     "output_type": "stream",
     "text": [
      "SubclassedDataFrame._constructor_expanddim: {'df_meta': True}\n",
      "SubclassedSeries._constructor: {}\n",
      "TestSeriesAccessor.metacs: {'meta': 'Metadata attached to cumsum column col2'}\n"
     ]
    }
   ],
   "source": [
    "col2_m = df.col2.test.metacs()"
   ]
  },
  {
   "cell_type": "code",
   "execution_count": 13,
   "metadata": {},
   "outputs": [
    {
     "name": "stdout",
     "output_type": "stream",
     "text": [
      "SubclassedDataFrame._constructor: {'df_meta': True}\n"
     ]
    }
   ],
   "source": [
    "df = df.assign(col2_m=col2_m)"
   ]
  },
  {
   "cell_type": "code",
   "execution_count": 14,
   "metadata": {},
   "outputs": [
    {
     "name": "stdout",
     "output_type": "stream",
     "text": [
      "SubclassedDataFrame._constructor_expanddim: {'df_meta': True}\n"
     ]
    },
    {
     "data": {
      "text/plain": [
       "{}"
      ]
     },
     "execution_count": 14,
     "metadata": {},
     "output_type": "execute_result"
    }
   ],
   "source": [
    "df.col2_m.attrs"
   ]
  },
  {
   "cell_type": "code",
   "execution_count": 15,
   "metadata": {},
   "outputs": [
    {
     "data": {
      "text/plain": [
       "0    3\n",
       "1    7\n",
       "Name: col2, dtype: int64"
      ]
     },
     "execution_count": 15,
     "metadata": {},
     "output_type": "execute_result"
    }
   ],
   "source": [
    "df.col2_m.__finalize__(col2_m)"
   ]
  },
  {
   "cell_type": "code",
   "execution_count": 16,
   "metadata": {},
   "outputs": [
    {
     "data": {
      "text/plain": [
       "{'meta': 'Metadata attached to cumsum column col2'}"
      ]
     },
     "execution_count": 16,
     "metadata": {},
     "output_type": "execute_result"
    }
   ],
   "source": [
    "df.col2_m.attrs"
   ]
  },
  {
   "cell_type": "code",
   "execution_count": 17,
   "metadata": {},
   "outputs": [
    {
     "name": "stdout",
     "output_type": "stream",
     "text": [
      "SubclassedDataFrame._constructor_expanddim: {'df_meta': True}\n"
     ]
    },
    {
     "data": {
      "text/plain": [
       "{}"
      ]
     },
     "execution_count": 17,
     "metadata": {},
     "output_type": "execute_result"
    }
   ],
   "source": [
    "df.col1_m.attrs"
   ]
  },
  {
   "cell_type": "code",
   "execution_count": null,
   "metadata": {},
   "outputs": [],
   "source": []
  }
 ],
 "metadata": {
  "kernelspec": {
   "display_name": "Python 3",
   "language": "python",
   "name": "python3"
  },
  "language_info": {
   "codemirror_mode": {
    "name": "ipython",
    "version": 3
   },
   "file_extension": ".py",
   "mimetype": "text/x-python",
   "name": "python",
   "nbconvert_exporter": "python",
   "pygments_lexer": "ipython3",
   "version": "3.8.3"
  }
 },
 "nbformat": 4,
 "nbformat_minor": 4
}
